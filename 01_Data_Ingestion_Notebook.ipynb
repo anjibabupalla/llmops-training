{
 "cells": [
  {
   "cell_type": "markdown",
   "metadata": {},
   "source": [
    "# Data Ingestion\n",
    "\n",
    "In this tutorial we show how create a data ingenstion pipeline to add data to a vector database.\n",
    "\n",
    "We are going to use `Pinecone` as the vector database, but there are other vector databases available too for example `Chroma, Weaviate, Faiss, etc.`\n",
    "\n",
    "We will be doing the following in this session:\n",
    "- How to load in documents.\n",
    "- Add metadata to each document.\n",
    "- How to use a text splitter to split documents.\n",
    "- How to generate embeddings for each text chunk.\n",
    "- How to insert into a vector database.\n"
   ]
  },
  {
   "cell_type": "markdown",
   "metadata": {},
   "source": [
    "## Pinecone\n",
    "\n",
    "You will need a [Pinecone](https://www.pinecone.io/) API key, you can [sign-up](https://app.pinecone.io/?sessionType=signup) for free to get a started account and then get the API key after sign-up."
   ]
  },
  {
   "cell_type": "code",
   "execution_count": 1,
   "metadata": {},
   "outputs": [],
   "source": [
    "# Import the os module to interact with the operating system environment variables\n",
    "import os\n",
    "from pinecone import Pinecone, ServerlessSpec\n",
    "# Set the OPENAI_API_KEY environment variable to your OpenAI API key\n",
    "os.environ[\"OPENAI_API_KEY\"] = \"\"\n",
    "\n",
    "# Set the PINECONE_API_KEY environment variable to your Pinecone API key\n",
    "os.environ[\"PINECONE_API_KEY\"] = \"\"\n"
   ]
  },
  {
   "cell_type": "markdown",
   "metadata": {},
   "source": [
    "## OpenAI\n",
    "\n",
    "You will need an [OpenAI](https://openai.com/) api key for this session. Login to your [platform.openai.com](https://platform.openai.com/) account, click on your profile picture in the upper right corner, and choose 'API Keys' from the menu. Create an API key and save it."
   ]
  },
  {
   "cell_type": "markdown",
   "metadata": {},
   "source": [
    "## Setup a Pinecone Index"
   ]
  },
  {
   "cell_type": "code",
   "execution_count": 2,
   "metadata": {},
   "outputs": [
    {
     "name": "stdout",
     "output_type": "stream",
     "text": [
      "Index `earning-calls` already exists\n"
     ]
    }
   ],
   "source": [
    "# Initialize a ServerlessSpec object for AWS with the specified region\n",
    "import time\n",
    "pc = Pinecone(api_key=\"\")\n",
    "spec = ServerlessSpec(\n",
    "    cloud=\"aws\",\n",
    "    region=\"us-east-1\"\n",
    ")\n",
    "INDEX_NAME = \"earning-calls\"\n",
    "# Check if the index already exists in the current PC (presumably a database or similar)\n",
    "if INDEX_NAME in pc.list_indexes().names():\n",
    "    # If the index exists, print a message indicating its existence\n",
    "    print(f\"Index `{INDEX_NAME}` already exists\")\n",
    "    \n",
    "    # Retrieve the existing index object\n",
    "#     index = <YOUR CODE HERE>\n",
    "    \n",
    "    # Print detailed statistics about the existing index\n",
    "#     print(index.describe_index_stats())\n",
    "    \n",
    "# If the index does not exist, proceed to create a new one\n",
    "else:\n",
    "    # Create a new index with specific parameters\n",
    "    pc.create_index(\n",
    "        name=INDEX_NAME,\n",
    "        dimension=1536,\n",
    "        metric=\"cosine\",\n",
    "        spec=spec\n",
    "    )\n",
    "    \n",
    "    # Wait for the index to be initialized before proceeding\n",
    "    while not pc.describe_index(INDEX_NAME).status['ready']:\n",
    "        # Sleep for 1 second to avoid overloading the system with requests\n",
    "        time.sleep(1)\n",
    "    \n",
    "    # Once the index is ready, print a confirmation message\n",
    "    print(f\"Index with name `{INDEX_NAME}` is created\")\n",
    "    \n",
    "    # Retrieve the newly created index object\n",
    "    index = pc.Index(INDEX_NAME)\n",
    "    \n",
    "    # Print detailed statistics about the newly created index\n",
    "    print(index.describe_index_stats())"
   ]
  },
  {
   "cell_type": "markdown",
   "metadata": {},
   "source": [
    "`Note:` In case you want to delete an already existing index then use the following `pc.delete_index(index_name)`"
   ]
  },
  {
   "cell_type": "markdown",
   "metadata": {},
   "source": [
    "## Building an Ingestion Pipeline"
   ]
  },
  {
   "cell_type": "markdown",
   "metadata": {},
   "source": [
    "### Importing the required packages"
   ]
  },
  {
   "cell_type": "code",
   "execution_count": 4,
   "metadata": {},
   "outputs": [],
   "source": [
    "# To split the text into smaller chunks\n",
    "from langchain.text_splitter import RecursiveCharacterTextSplitter\n",
    "\n",
    "# To create embeddings\n",
    "from langchain_openai import OpenAIEmbeddings\n",
    "\n",
    "# To connect with the Vectorstore\n",
    "from langchain_pinecone import PineconeVectorStore\n",
    "\n",
    "# To load files in a directory\n",
    "from langchain_community.document_loaders import DirectoryLoader \n",
    "\n",
    "# To parse the PDFs\n",
    "from langchain_community.document_loaders import PyPDFLoader "
   ]
  },
  {
   "cell_type": "code",
   "execution_count": 7,
   "metadata": {},
   "outputs": [],
   "source": [
    "# Define the directory path where the data files are stored\n",
    "DATA_DIR_PATH = \"Data/\"\n",
    "\n",
    "# Set the chunk size for processing data, typically in bytes\n",
    "CHUNK_SIZE = 1024\n",
    "\n",
    "# Define the overlap between chunks for more efficient processing\n",
    "CHUNK_OVERLAP = 204\n",
    "\n",
    "# Specify the name of the index to be used for storing or retrieving data\n",
    "INDEX_NAME = 'earning-calls'"
   ]
  },
  {
   "cell_type": "markdown",
   "metadata": {},
   "source": [
    "`Note:` Make sure to maintain the below show directory structure since we will be using the Year and Quarter directory names in the metadata later.\n",
    "\n",
    "<!-- ![Data Dir Tree](images/data_dir_tree.png) -->\n",
    "\n",
    "<img src=\"images/data_dir_tree.png\"/>"
   ]
  },
  {
   "cell_type": "markdown",
   "metadata": {},
   "source": [
    "### Loading Files\n",
    "\n",
    "Initialize a DirectoryLoader object and pass the `Path to data`, `the type of files to load from directory`, and `the loader_class` which in our case is PyPDFLoader since we are working with PDF files."
   ]
  },
  {
   "cell_type": "code",
   "execution_count": 8,
   "metadata": {},
   "outputs": [
    {
     "name": "stdout",
     "output_type": "stream",
     "text": [
      "Total Documents loaded: 29\n"
     ]
    }
   ],
   "source": [
    "# Initialize a loader object with your specific loading logic or method\n",
    "loaders = {\n",
    "    '.pdf': PyPDFLoader,\n",
    "}\n",
    "file_type = '.pdf'\n",
    "loader = DirectoryLoader(path=DATA_DIR_PATH,glob=f\"**/*{file_type}\",loader_cls=loaders[file_type])\n",
    "\n",
    "# Load documents using the loader object\n",
    "docs = loader.load()\n",
    "\n",
    "# Print the total number of documents loaded\n",
    "print(f\"Total Documents loaded: {len(docs)}\")"
   ]
  },
  {
   "cell_type": "code",
   "execution_count": 9,
   "metadata": {},
   "outputs": [
    {
     "data": {
      "text/plain": [
       "Document(page_content=' \\n Page 1 of 18  \\n \\n“HCL  Tech nologies Limited ’s Q4FY23 & Annual FY23 \\nEarnings Conference Call”  \\n \\nApril 20 , 2023 \\n \\n \\n \\n \\n \\n \\n \\n \\n \\n \\n  \\n \\n \\nMANAGEMENT : MR. C. VIJAYAKUMAR – CHIEF EXECUTIVE OFFICER & \\nMANAGING DIRECTOR , HCL  TECH NOLOGIES LIMITED  \\nMR. PRATEEK  AGGARWAL  – CHIEF  FINANCIAL \\nOFFICER , HCL  TECH NOLOGIES LIMITED  \\nMR. SRINIVASAN SESHADRI – GLOBAL HEAD, \\nFINANCIAL SERVICES , HCL  TECH NOLOGIES LIMITED  \\nMR. VIJAY GUNTUR  – PRESIDEN T, ENGINEERING AND \\nR&D  SERVICES , HCL  TECH NOLOGIES LIMITED  \\nMR. MANAN  BATRA – SENIOR MANAGER , INVESTOR \\nRELATIONS , HCL  TECH NOLOGIES LIMITED  \\n  \\n', metadata={'source': 'Data\\\\FY23\\\\Q4\\\\HCLTech.pdf', 'page': 0})"
      ]
     },
     "execution_count": 9,
     "metadata": {},
     "output_type": "execute_result"
    }
   ],
   "source": [
    "# looking into the first document\n",
    "docs[0]"
   ]
  },
  {
   "cell_type": "code",
   "execution_count": 10,
   "metadata": {},
   "outputs": [
    {
     "name": "stdout",
     "output_type": "stream",
     "text": [
      "keys associated with a Document: dict_keys(['page_content', 'metadata', 'type'])\n"
     ]
    }
   ],
   "source": [
    "# we can convert the Document object to a python dict using the .dict() method.\n",
    "print(f\"keys associated with a Document: {docs[0].dict().keys()}\")"
   ]
  },
  {
   "cell_type": "code",
   "execution_count": 11,
   "metadata": {},
   "outputs": [
    {
     "name": "stdout",
     "output_type": "stream",
     "text": [
      "---------------\n",
      "First 100 charachters of the page content:  \n",
      " Page 1 of 18  \n",
      " \n",
      "“HCL  Tech nologies Limited ’s Q4FY23 & Annual FY23 \n",
      "Earnings Conference Call”  \n",
      "---------------\n",
      "Metadata associated with the document: {'source': 'Data\\\\FY23\\\\Q4\\\\HCLTech.pdf', 'page': 0}\n",
      "---------------\n",
      "Datatype of the document: Document\n",
      "---------------\n"
     ]
    }
   ],
   "source": [
    "print(f\"{'-'*15}\\nFirst 100 charachters of the page content: {docs[0].page_content[:100]}\\n{'-'*15}\")\n",
    "print(f\"Metadata associated with the document: {docs[0].metadata}\\n{'-'*15}\")\n",
    "print(f\"Datatype of the document: {docs[0].type}\\n{'-'*15}\")"
   ]
  },
  {
   "cell_type": "code",
   "execution_count": 12,
   "metadata": {},
   "outputs": [],
   "source": [
    "#  We loop through each document and add additional metadata - filename, quarter, and year\n",
    "# metadata is very much important for narrowing down the search,if we are not narrowing down there will be lot of hallucinations.\n",
    "# it might responds to some generic way instead of specific company. Success of RAG depends on the retrieval.\n",
    "# check about graphRAG?\n",
    "for doc in docs:\n",
    "    filename = doc.dict()['metadata']['source'].split(\"\\\\\")[-1]\n",
    "    quarter = doc.dict()['metadata']['source'].split(\"\\\\\")[-2]\n",
    "    year = doc.dict()['metadata']['source'].split(\"\\\\\")[-3]\n",
    "    doc.metadata = {\"filename\": filename, \"quarter\": quarter, \"year\": year, \"source\": doc.dict()['metadata']['source'], \"page\": doc.dict()['metadata']['page']}"
   ]
  },
  {
   "cell_type": "code",
   "execution_count": 13,
   "metadata": {},
   "outputs": [
    {
     "name": "stdout",
     "output_type": "stream",
     "text": [
      "Metadata associated with the document: {'filename': 'HCLTech.pdf', 'quarter': 'Q4', 'year': 'FY23', 'source': 'Data\\\\FY23\\\\Q4\\\\HCLTech.pdf', 'page': 0}\n",
      "---------------\n",
      "Metadata associated with the document: {'filename': 'HCLTech.pdf', 'quarter': 'Q4', 'year': 'FY23', 'source': 'Data\\\\FY23\\\\Q4\\\\HCLTech.pdf', 'page': 1}\n",
      "---------------\n"
     ]
    }
   ],
   "source": [
    "# To veryfy that the metadata is indeed added to the document\n",
    "print(f\"Metadata associated with the document: {docs[0].metadata}\\n{'-'*15}\")\n",
    "print(f\"Metadata associated with the document: {docs[1].metadata}\\n{'-'*15}\")"
   ]
  },
  {
   "cell_type": "markdown",
   "metadata": {},
   "source": [
    "### Chunking Text\n",
    "\n",
    "As the name suggests, chunking is the process of dividing a large amount of data into several smaller parts for more effective and meaningful storage.\n",
    "\n",
    "There are various ways to perform chunking naming some as:\n",
    " - Character Chunking\n",
    " - Recursive Character Chunking\n",
    " - Document Specific Chunking\n",
    "\n",
    "For the sake of this session we will be using the `Recursive Character Chunking` and langchain has an implemention that we can directly use. To read more about it you can refer to the [docs](https://python.langchain.com/v0.1/docs/modules/data_connection/document_transformers/recursive_text_splitter/)\n",
    "\n",
    "`Additional Resource:` If you want to explore the different chunking stratigies than you can refer to the following docs from langchain - [Link to Docs](https://python.langchain.com/v0.1/docs/modules/data_connection/document_transformers/)"
   ]
  },
  {
   "cell_type": "code",
   "execution_count": 14,
   "metadata": {},
   "outputs": [],
   "source": [
    "# Split text into chunks \n",
    "text_splitter = RecursiveCharacterTextSplitter(\n",
    "    chunk_size = CHUNK_SIZE,\n",
    "    chunk_overlap = CHUNK_OVERLAP\n",
    ")\n",
    "documents = text_splitter.split_documents(docs)"
   ]
  },
  {
   "cell_type": "code",
   "execution_count": 16,
   "metadata": {},
   "outputs": [
    {
     "data": {
      "text/plain": [
       "(29, 112)"
      ]
     },
     "execution_count": 16,
     "metadata": {},
     "output_type": "execute_result"
    }
   ],
   "source": [
    "len(docs), len(documents)"
   ]
  },
  {
   "cell_type": "code",
   "execution_count": 17,
   "metadata": {},
   "outputs": [
    {
     "data": {
      "text/plain": [
       "[Document(page_content='Page 1 of 18  \\n \\n“HCL  Tech nologies Limited ’s Q4FY23 & Annual FY23 \\nEarnings Conference Call”  \\n \\nApril 20 , 2023 \\n \\n \\n \\n \\n \\n \\n \\n \\n \\n \\n  \\n \\n \\nMANAGEMENT : MR. C. VIJAYAKUMAR – CHIEF EXECUTIVE OFFICER & \\nMANAGING DIRECTOR , HCL  TECH NOLOGIES LIMITED  \\nMR. PRATEEK  AGGARWAL  – CHIEF  FINANCIAL \\nOFFICER , HCL  TECH NOLOGIES LIMITED  \\nMR. SRINIVASAN SESHADRI – GLOBAL HEAD, \\nFINANCIAL SERVICES , HCL  TECH NOLOGIES LIMITED  \\nMR. VIJAY GUNTUR  – PRESIDEN T, ENGINEERING AND \\nR&D  SERVICES , HCL  TECH NOLOGIES LIMITED  \\nMR. MANAN  BATRA – SENIOR MANAGER , INVESTOR \\nRELATIONS , HCL  TECH NOLOGIES LIMITED', metadata={'filename': 'HCLTech.pdf', 'quarter': 'Q4', 'year': 'FY23', 'source': 'Data\\\\FY23\\\\Q4\\\\HCLTech.pdf', 'page': 0}),\n",
       " Document(page_content=\"HCL Tech nologies Limited  \\nApril 20 , 202 3 \\n \\n Page 2 of 18 \\nModerator:  Ladies and gentlemen, g ood day and welcome to the HCL Technologies  Limited Q4 FY'23 & \\nAnnual FY'23 Earnings Conference Call . \\nAs a reminder, all participant lines will be in the listen -only mode and there will be an \\nopportunity for you to ask questions after the presentation concludes.  Should you need assistance \\nduring the conference call,  please signal an operator by pressing ‘*’ then ‘0’  on your touchtone \\nphone.  Please note that this conference is being recorded.  \\nI now hand the conference over to Mr. Manan Batra, Senior Manager, Investor Relations . Thank \\nyou, and over to you, sir.  \\nManan Batra : Thank you, Aman . Good morning and good evening, everyone. A very warm welcome to \\nHCLTech 's Full Year  Fiscal 2023 & Q4 Earnings Call.  \\nWe have with us Mr. C. Vijay akumar  – CEO  and Managing Director , HCLTech ; Mr. Prat eek \\nAggarwal  – Chief  Financial Officer, along with the broader leadership team to discuss the\", metadata={'filename': 'HCLTech.pdf', 'quarter': 'Q4', 'year': 'FY23', 'source': 'Data\\\\FY23\\\\Q4\\\\HCLTech.pdf', 'page': 1}),\n",
       " Document(page_content='We have with us Mr. C. Vijay akumar  – CEO  and Managing Director , HCLTech ; Mr. Prat eek \\nAggarwal  – Chief  Financial Officer, along with the broader leadership team to discuss the \\nperformance of the company during the  year and the  quarter followed by Q&A. \\nIn the course of this call, certain statements that will be made are forward -looking, which involve \\na numbe r of risks, uncertainties, assumptions, and other factors that could cause actual results to \\ndiffer materially from those in such forward -looking statements. All forward -looking statements \\nmade herein are based on information presently available to the man agement, and the company \\ndoes not undertake to update any forward -looking statements that may be made in the course of \\nthis call. In this regard, please do review the safe harbor statement in the formal investor release \\ndocument and all the factors that ca n cause the difference.  \\nOver to you C VK and thanks.', metadata={'filename': 'HCLTech.pdf', 'quarter': 'Q4', 'year': 'FY23', 'source': 'Data\\\\FY23\\\\Q4\\\\HCLTech.pdf', 'page': 1}),\n",
       " Document(page_content=\"this call. In this regard, please do review the safe harbor statement in the formal investor release \\ndocument and all the factors that ca n cause the difference.  \\nOver to you C VK and thanks.  \\nC. Vijayakumar:  Thank you, Manan . Good evening  and good morning , everyone. Thank you for joining us for \\nHCLTech 's FY'23 & Q 4 FY'23 Annual Earnings Announcement.  \\nWhen we started the year, there was good optimism around growth supported by strong market \\nmomentum but within an uncertain geopolitical environment. When we started the year, there \\nwas high attrition and increasing resource costs industry -wide. I'm pleased to shar e that we've \\nmanaged to deliver good growth with good control over profitability during such a volatile \\nperiod.  \\nOur overall revenue growth 13.7% in constant currency year -on-year. The strong growth is \\nattributed to good momentum both in our services as wel l as our software business.  This was on\", metadata={'filename': 'HCLTech.pdf', 'quarter': 'Q4', 'year': 'FY23', 'source': 'Data\\\\FY23\\\\Q4\\\\HCLTech.pdf', 'page': 1})]"
      ]
     },
     "execution_count": 17,
     "metadata": {},
     "output_type": "execute_result"
    }
   ],
   "source": [
    "documents[0:4]"
   ]
  },
  {
   "cell_type": "code",
   "execution_count": 5,
   "metadata": {},
   "outputs": [],
   "source": [
    "# Initialize the embedding model\n",
    "embeddings = OpenAIEmbeddings(model = \"text-embedding-ada-002\") "
   ]
  },
  {
   "cell_type": "code",
   "execution_count": 6,
   "metadata": {},
   "outputs": [
    {
     "name": "stdout",
     "output_type": "stream",
     "text": [
      "Are the vectors already added in DB: (Type Y/N) Y\n"
     ]
    },
    {
     "name": "stdout",
     "output_type": "stream",
     "text": [
      "Existing Vectorstore is loaded\n"
     ]
    }
   ],
   "source": [
    "# Prompt the user to confirm if the vectors are already added to the Pinecone database\n",
    "docs_already_in_pinecone = input(\"Are the vectors already added in DB: (Type Y/N)\")\n",
    "\n",
    "# Check if the user has confirmed that the vectors are already in the database\n",
    "if docs_already_in_pinecone == \"Y\" or docs_already_in_pinecone == \"y\":\n",
    "    \n",
    "    # Initialize a PineconeVectorStore object with the existing index and embeddings\n",
    "    docsearch = PineconeVectorStore(\n",
    "        index_name = INDEX_NAME,\n",
    "        embedding = embeddings\n",
    "    )\n",
    "    \n",
    "    print(\"Existing Vectorstore is loaded\")\n",
    "    \n",
    "# If the user confirms that the vectors are not in the database, create a new PineconeVectorStore from the documents and embeddings\n",
    "elif docs_already_in_pinecone == \"N\" or docs_already_in_pinecone == \"n\":\n",
    "    \n",
    "    # Create a PineconeVectorStore object from the documents and embeddings, specifying the index name\n",
    "    docsearch = PineconeVectorStore.from_documents(\n",
    "        documents,\n",
    "        index_name = INDEX_NAME,\n",
    "        embedding = embeddings        \n",
    "    )\n",
    "    \n",
    "    print(\"New vectorstore is created and loaded\")\n",
    "    \n",
    "# If the user input is neither 'Y' nor 'N', prompt them to enter a valid response\n",
    "else:\n",
    "    print(\"Please type Y - for yes and N - for no\")"
   ]
  },
  {
   "cell_type": "code",
   "execution_count": 7,
   "metadata": {},
   "outputs": [
    {
     "ename": "AttributeError",
     "evalue": "'PineconeVectorStore' object has no attribute 'as_retirever'",
     "output_type": "error",
     "traceback": [
      "\u001b[1;31m---------------------------------------------------------------------------\u001b[0m",
      "\u001b[1;31mAttributeError\u001b[0m                            Traceback (most recent call last)",
      "Cell \u001b[1;32mIn[7], line 2\u001b[0m\n\u001b[0;32m      1\u001b[0m \u001b[38;5;66;03m# Here we are defing how to use the loaded vectorstore as retriver\u001b[39;00m\n\u001b[1;32m----> 2\u001b[0m retriver \u001b[38;5;241m=\u001b[39m \u001b[43mdocsearch\u001b[49m\u001b[38;5;241;43m.\u001b[39;49m\u001b[43mas_retirever\u001b[49m(search_kwargs\u001b[38;5;241m=\u001b[39m{\u001b[38;5;124m\"\u001b[39m\u001b[38;5;124mfilter\u001b[39m\u001b[38;5;124m\"\u001b[39m:{\u001b[38;5;124m\"\u001b[39m\u001b[38;5;124mquarter\u001b[39m\u001b[38;5;124m\"\u001b[39m: QUARTER, \u001b[38;5;124m\"\u001b[39m\u001b[38;5;124mfilename\u001b[39m\u001b[38;5;124m\"\u001b[39m: FILENAME},\u001b[38;5;124m\"\u001b[39m\u001b[38;5;124mk\u001b[39m\u001b[38;5;124m\"\u001b[39m: TOP_K})\n",
      "\u001b[1;31mAttributeError\u001b[0m: 'PineconeVectorStore' object has no attribute 'as_retirever'"
     ]
    }
   ],
   "source": [
    "# Here we are defing how to use the loaded vectorstore as retriver\n",
    "retriver = docsearch.as_retirever(search_kwargs={\"filter\":{\"quarter\": QUARTER, \"filename\": FILENAME},\"k\": TOP_K})"
   ]
  },
  {
   "cell_type": "code",
   "execution_count": null,
   "metadata": {},
   "outputs": [],
   "source": [
    "retriver.invoke(\"what is the income?\")"
   ]
  },
  {
   "cell_type": "markdown",
   "metadata": {},
   "source": [
    "#### Using metadata with retriver"
   ]
  },
  {
   "cell_type": "code",
   "execution_count": null,
   "metadata": {},
   "outputs": [],
   "source": [
    "# create a retriever object using the `docsearch` module, configured with specific search parameters\n",
    "retriver = <YOUR CODE HERE>"
   ]
  },
  {
   "cell_type": "code",
   "execution_count": null,
   "metadata": {},
   "outputs": [],
   "source": [
    "retriver.invoke(\"what is the income?\")"
   ]
  }
 ],
 "metadata": {
  "kernelspec": {
   "display_name": "Python 3 (ipykernel)",
   "language": "python",
   "name": "python3"
  },
  "language_info": {
   "codemirror_mode": {
    "name": "ipython",
    "version": 3
   },
   "file_extension": ".py",
   "mimetype": "text/x-python",
   "name": "python",
   "nbconvert_exporter": "python",
   "pygments_lexer": "ipython3",
   "version": "3.8.2"
  }
 },
 "nbformat": 4,
 "nbformat_minor": 4
}
