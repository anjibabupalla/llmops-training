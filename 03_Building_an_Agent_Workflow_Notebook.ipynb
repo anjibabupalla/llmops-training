{
 "cells": [
  {
   "cell_type": "markdown",
   "id": "6916830b",
   "metadata": {},
   "source": [
    "### Setting environment variables"
   ]
  },
  {
   "cell_type": "code",
   "execution_count": 1,
   "id": "04023432",
   "metadata": {},
   "outputs": [],
   "source": [
    "# Import the os module to interact with the operating system environment variables\n",
    "import os\n",
    "\n",
    "# Set the LANGCHAIN_TRACING_V2 environment variable to enable tracing for LangChain version 2\n",
    "os.environ[\"LANGCHAIN_TRACING_V2\"] = \"true\"\n",
    "\n",
    "from dotenv import load_dotenv\n",
    "load_dotenv()\n",
    "# Set the LANGCHAIN_PROJECT environment variable to specify the project name in LangChain\n",
    "os.environ['LANGCHAIN_PROJECT'] = \"agentic-workflow\"\n",
    "\n",
    "# Set the LANGSMITH_USER_HANDLE environment variable with your LangSmith user handle\n",
    "os.environ['LANGSMITH_USER_HANDLE'] = \"pallaanji\"\n",
    "\n",
    "# Set the SERPAPI_API_KEY environment variable with your SERP API key\n"
   ]
  },
  {
   "cell_type": "code",
   "execution_count": 2,
   "id": "22564650",
   "metadata": {},
   "outputs": [],
   "source": [
    "# Import the Client class from the langsmith module to create a client instance\n",
    "from langsmith import Client\n",
    "\n",
    "# Initialize a new client instance using the Client class\n",
    "client = Client()"
   ]
  },
  {
   "cell_type": "markdown",
   "id": "92085946",
   "metadata": {},
   "source": [
    "### Loading libraries"
   ]
  },
  {
   "cell_type": "code",
   "execution_count": 3,
   "id": "356fbe19",
   "metadata": {},
   "outputs": [],
   "source": [
    "# Import the itemgetter function from the operator module to extract items from objects\n",
    "from operator import itemgetter\n",
    "\n",
    "# Import the hub module from langchain to access its functionalities\n",
    "from langchain import hub\n",
    "\n",
    "# Import the AgentExecutor class from langchain.agents to execute agent actions\n",
    "from langchain.agents import AgentExecutor\n",
    "\n",
    "# Import the load_tools function from langchain.agents to load necessary tools for agents\n",
    "from langchain.agents import load_tools\n",
    "\n",
    "# Import the format_to_openai_functions function from langchain.agents.format_scratchpad\n",
    "# to convert scratchpad content into OpenAI functions\n",
    "from langchain.agents.format_scratchpad import format_to_openai_functions\n",
    "\n",
    "# Import the OpenAIFunctionsAgentOutputParser class from langchain.agents.output_parsers\n",
    "# to parse the output of agents into OpenAI functions\n",
    "from langchain.agents.output_parsers import OpenAIFunctionsAgentOutputParser\n",
    "\n",
    "# Import the ChatOpenAI class from langchain.chat_models to interact with OpenAI chat models\n",
    "from langchain.chat_models import ChatOpenAI\n",
    "\n",
    "# Import the format_tool_to_openai_function function from langchain.tools.render\n",
    "# to format tools into OpenAI functions\n",
    "from langchain.tools.render import format_tool_to_openai_function"
   ]
  },
  {
   "cell_type": "markdown",
   "id": "8232b9e5",
   "metadata": {},
   "source": [
    "### Initializing LLMs and Tools"
   ]
  },
  {
   "cell_type": "code",
   "execution_count": 5,
   "id": "fea8db6d",
   "metadata": {},
   "outputs": [
    {
     "name": "stderr",
     "output_type": "stream",
     "text": [
      "c:\\program files\\python38\\lib\\site-packages\\langchain_core\\_api\\deprecation.py:119: LangChainDeprecationWarning: The function `format_tool_to_openai_function` was deprecated in LangChain 0.1.16 and will be removed in 0.2.0. Use langchain_core.utils.function_calling.convert_to_openai_function() instead.\n",
      "  warn_deprecated(\n"
     ]
    }
   ],
   "source": [
    "# Create an instance of the ChatOpenAI class to interact with OpenAI's chat models\n",
    "# llm = ChatOpenAI()\n",
    "from langchain_openai import ChatOpenAI,AzureOpenAIEmbeddings,AzureChatOpenAI\n",
    "llm = AzureChatOpenAI(model=\"anji-gpt-35-turbo\", temperature=0,api_version = \"2024-02-01\")\n",
    "\n",
    "# Load tools such as serpapi, wikipedia, and llm-math using the load_tools function\n",
    "tools = load_tools([\"serpapi\", \"wikipedia\"], llm=llm)\n",
    "\n",
    "# Bind the loaded tools to the language model (llm) by converting them into OpenAI functions\n",
    "llm_with_tools = llm.bind(functions=[format_tool_to_openai_function(t) for t in tools])"
   ]
  },
  {
   "cell_type": "markdown",
   "id": "fa106d68",
   "metadata": {},
   "source": [
    "### Prompt design"
   ]
  },
  {
   "cell_type": "code",
   "execution_count": 6,
   "id": "a44fc60b",
   "metadata": {},
   "outputs": [
    {
     "name": "stdout",
     "output_type": "stream",
     "text": [
      "input_variables=['agent_scratchpad', 'input'] input_types={'agent_scratchpad': typing.List[typing.Union[langchain_core.messages.ai.AIMessage, langchain_core.messages.human.HumanMessage, langchain_core.messages.chat.ChatMessage, langchain_core.messages.system.SystemMessage, langchain_core.messages.function.FunctionMessage, langchain_core.messages.tool.ToolMessage]]} metadata={'lc_hub_owner': 'wfh', 'lc_hub_repo': 'agent-lcel-prompt', 'lc_hub_commit_hash': '08dfba0e76aaf99490887fca749eedca2541c34fcde5a21df5bf8b2960938e01'} messages=[SystemMessagePromptTemplate(prompt=PromptTemplate(input_variables=[], template='You are helpful AI assistant.')), HumanMessagePromptTemplate(prompt=PromptTemplate(input_variables=['input'], template='{input}')), MessagesPlaceholder(variable_name='agent_scratchpad')]\n"
     ]
    }
   ],
   "source": [
    "# Use the hub.pull method from the langchain hub to retrieve a specific prompt\n",
    "prompt = hub.pull(\"wfh/agent-lcel-prompt\")\n",
    "print(prompt)"
   ]
  },
  {
   "cell_type": "code",
   "execution_count": 7,
   "id": "db10f919",
   "metadata": {},
   "outputs": [],
   "source": [
    "# Define a function named format_scratchpad that takes a dictionary as input\n",
    "# The dictionary is expected to contain a key \"intermediate_steps\" whose value is processed\n",
    "# using the format_to_openai_functions function to convert intermediate steps into a string\n",
    "def format_scratchpad(x: dict) -> str:\n",
    "    return format_to_openai_functions(x[\"intermediate_steps\"])\n",
    "\n",
    "# Define a function named get_chat_history that takes a list as input\n",
    "# The list is expected to contain a dictionary with a key \"chat_history\"\n",
    "# If the \"chat_history\" key exists, its value is returned; otherwise, an empty list is returned\n",
    "def get_chat_history(x: list) -> str:\n",
    "    return x.get(\"chat_history\", [])"
   ]
  },
  {
   "cell_type": "markdown",
   "id": "87ba6a1d",
   "metadata": {},
   "source": [
    "### Creating agents"
   ]
  },
  {
   "cell_type": "code",
   "execution_count": 8,
   "id": "4f3ccd2e",
   "metadata": {},
   "outputs": [],
   "source": [
    "# Define an agent configuration dictionary with specific functions mapped to keys\n",
    "# \"input\" is mapped to the itemgetter function to extract the \"input\" field from a given object\n",
    "# \"agent_scratchpad\" is mapped to the format_scratchpad function to process intermediate steps\n",
    "# \"chat_history\" is mapped to the get_chat_history function to retrieve chat history\n",
    "agent_config = {\n",
    "    \"input\": itemgetter(\"input\"),\n",
    "    \"agent_scratchpad\": format_scratchpad,\n",
    "    \"chat_history\": get_chat_history\n",
    "}\n",
    "# Apply the agent configuration to a prompt using the pipe operator\n",
    "# This involves pulling the prompt from the hub, binding it with the loaded tools (llm_with_tools),\n",
    "# and then processing it through the agent configuration\n",
    "# The result is then parsed by the OpenAIFunctionsAgentOutputParser to format the output\n",
    "agent = (\n",
    "    agent_config\n",
    "    | prompt\n",
    "    | llm_with_tools\n",
    "    | OpenAIFunctionsAgentOutputParser()\n",
    ")"
   ]
  },
  {
   "cell_type": "code",
   "execution_count": 9,
   "id": "72efca58",
   "metadata": {},
   "outputs": [],
   "source": [
    "# Instantiate an AgentExecutor object with the specified agent configuration and tools\n",
    "agent_executor = AgentExecutor(\n",
    "    agent = agent,\n",
    "    tools = tools,\n",
    "    verbose = True\n",
    ")"
   ]
  },
  {
   "cell_type": "markdown",
   "id": "c7146d69",
   "metadata": {},
   "source": [
    "### Questions to agents"
   ]
  },
  {
   "cell_type": "code",
   "execution_count": 10,
   "id": "18c5b20d",
   "metadata": {},
   "outputs": [],
   "source": [
    "inputs = [\"who is Indian prime minister\",\n",
    "          \"What is US President's age and return the number age multiplied by two\",\n",
    "          \"what is the name of OpenAI's new AI model?\"]"
   ]
  },
  {
   "cell_type": "code",
   "execution_count": 11,
   "id": "625bea3d",
   "metadata": {},
   "outputs": [
    {
     "name": "stdout",
     "output_type": "stream",
     "text": [
      "\n",
      "\n",
      "\u001b[1m> Entering new AgentExecutor chain...\u001b[0m\n",
      "\n",
      "\u001b[1m> Entering new AgentExecutor chain...\u001b[0m\n",
      "\n",
      "\n",
      "\n",
      "\u001b[1m> Entering new AgentExecutor chain...\u001b[0m\n",
      "\u001b[32;1m\u001b[1;3m\n",
      "Invoking: `wikipedia` with `US President`\n",
      "\n",
      "\n",
      "\u001b[0m\u001b[32;1m\u001b[1;3mOpenAI's new AI model is called GPT-3 (Generative Pre-trained Transformer 3).\u001b[0m\n",
      "\n",
      "\u001b[1m> Finished chain.\u001b[0m\n",
      "\u001b[32;1m\u001b[1;3m\n",
      "Invoking: `wikipedia` with `Prime Minister of India`\n",
      "\n",
      "\n",
      "\u001b[0m\u001b[33;1m\u001b[1;3mPage: President of the United States\n",
      "Summary: The president of the United States (POTUS) is the head of state and head of government of the United States of America. The president directs the executive branch of the federal government and is the commander-in-chief of the United States Armed Forces.\n",
      "The power of the presidency has grown substantially since the first president, George Washington, took office in 1789. While presidential power has ebbed and flowed over time, the presidency has played an increasingly significant role in American political life since the beginning of the 20th century, carrying over into the 21st century with notable expansions during the presidencies of Franklin D. Roosevelt and George W. Bush. In modern times, the president is one of the world's most powerful political figures and the leader of the world's only remaining superpower. As the leader of the nation with the largest economy by nominal GDP, the president possesses significant domestic and international hard and soft power. For much of the 20th century, especially during the Cold War, the U.S. president was often called \"the leader of the free world\".\n",
      "Article II of the Constitution establishes the executive branch of the federal government and vests executive power in the president. The power includes the execution and enforcement of federal law and the responsibility to appoint federal executive, diplomatic, regulatory, and judicial officers.  Based on constitutional provisions empowering the president to appoint and receive ambassadors and conclude treaties with foreign powers, and on subsequent laws enacted by Congress, the modern presidency has primary responsibility for conducting U.S. foreign policy. The role includes responsibility for directing the world's most expensive military, which has the second-largest nuclear arsenal.\n",
      "The president also plays a leading role in federal legislation and domestic policymaking. As part of the system of separation of powers, Article I, Section 7 of the Constitution gives the president the power to sign or veto federal legislation. Since modern presidents are typically viewed as leaders of their political parties, major policymaking is significantly shaped by the outcome of presidential elections, with presidents taking an active role in promoting their policy priorities to members of Congress who are often electorally dependent on the president. In recent decades, presidents have also made increasing use of executive orders, agency regulations, and judicial appointments to shape domestic policy.\n",
      "The president is elected indirectly through the Electoral College to a four-year term, along with the vice president. Under the Twenty-second Amendment, ratified in 1951, no person who has been elected to two presidential terms may be elected to a third. In addition, nine vice presidents have become president by virtue of a president's intra-term death or resignation. In all, 45 individuals have served 46 presidencies spanning 58 four-year terms. Joe Biden is the 46th and current president of the United States, having assumed office on January 20, 2021.\n",
      "\n",
      "\n",
      "\n",
      "Page: List of presidents of the United States\n",
      "Summary: The president of the United States is the head of state and head of government of the United States, indirectly elected to a four-year term via the Electoral College. The officeholder leads the executive branch of the federal government and is the commander-in-chief of the United States Armed Forces. Since the office was established in 1789, 45 men have served in 46 presidencies. The first president, George Washington, won a unanimous vote of the Electoral College. Grover Cleveland served two non-consecutive terms and is therefore counted as the 22nd and 24th president of the United States, giving rise to the discrepancy between the number of presidencies and the number of individuals who have served as president.\n",
      "The presidency of William Henry Harrison, who died 31 days after taking office in 1841\u001b[0m\u001b[33;1m\u001b[1;3mPage: Prime Minister of India\n",
      "Summary: The prime minister of India (IAST: Bhārat kē Pradhānamantrī) is the head of government of the Republic of India. Executive authority is vested in the prime minister and his chosen Council of Ministers, despite the president of India being the nominal head of the executive.  The prime minister has to be a member of one of the houses of bicameral Parliament of India, alongside heading the respective house. The prime minister and their cabinet are at all times responsible to the Lok Sabha.\n",
      "The prime minister is appointed by the president of India; however, the prime minister has to enjoy the confidence of the majority of Lok Sabha members, who are directly elected every five years, lest the prime minister shall resign. The prime minister can be a member of the Lok Sabha or of the Rajya Sabha, the upper house of the parliament. The prime minister controls the selection and dismissal of members of the Union Council of Ministers; and allocation of posts to members within the government.\n",
      "The longest-serving prime minister was Jawaharlal Nehru, also the first prime minister, whose tenure lasted 16 years and 286 days. His premiership was followed by Lal Bahadur Shastri's short tenure and Indira Gandhi's 11- and 4-year-long tenures, both politicians belonging to the Indian National Congress. After Indira Gandhi's assassination, her son Rajiv Gandhi took charge until 1989, when a decade with five unstable governments began. This was followed by the full terms of P. V. Narasimha Rao, Atal Bihari Vajpayee, Manmohan Singh, and Narendra Modi. Modi is the 14th and current prime minister of India, serving since 26 May 2014.\n",
      "\n",
      "Page: List of prime ministers of India\n",
      "Summary: The prime minister of India is the chief executive of the Government of India and chair of the Union Council of Ministers. Although the president of India is the constitutional, nominal, and ceremonial head of state, in practice and ordinarily, the executive authority is vested in the prime minister and their chosen Council of Ministers. The prime minister is the leader elected by the party with a majority in the lower house of the Indian parliament, the Lok Sabha, which is the main legislative body in the Republic of India. The prime minister and their cabinet are at all times responsible to the Lok Sabha. The prime minister can be a member of the Lok Sabha or of the Rajya Sabha, the upper house of the parliament. The prime minister ranks third in the order of precedence.\n",
      "\n",
      "The prime minister is appointed by the president of India; however, the prime minister has to enjoy the confidence of the majority of Lok Sabha members, who are directly elected every five years, unless a prime minister resigns. The prime minister is the presiding member of the Council of Ministers of the Union government. The prime minister unilaterally controls the selection and dismissal of members of the council; and allocation of posts to members within the government. This council, which is collectively responsible to the Lok Sabha as per Article 75(3), assists the president regarding the operations under the latter's powers; however, by the virtue of Article 74 of the Constitution, such 'aid and advice' tendered by the council is binding.\n",
      "Since 1947, India has had 14 prime ministers. Jawaharlal Nehru was India's first prime minister, serving as prime minister of the Dominion of India from 15 August 1947 until 26 January 1950, and thereafter of the Republic of India until his death in May 1964. (India conducted its first post-independence general elections in 1952). Earlier, Nehru had served as prime minister of the Interim Government of India during the British Raj from 2 September 1946 until 14 August 1947, his party, the Indian National Congress having won the 1946 Indian provincial elections. Nehru was succeeded by Lal Bahadur Shastri, whose 1 year 7-month term ended in his death in Tashkent, then in the USSR, where he had signed the Tashkent Declaration bet\u001b[0m\u001b[32;1m\u001b[1;3m\n",
      "Invoking: `wikipedia` with `Joe Biden`\n",
      "\n",
      "\n",
      "\u001b[0m\u001b[32;1m\u001b[1;3mThe current Prime Minister of India is Narendra Modi. He has been serving as the Prime Minister since May 26, 2014.\u001b[0m\n",
      "\n",
      "\u001b[1m> Finished chain.\u001b[0m\n",
      "\u001b[33;1m\u001b[1;3mPage: Joe Biden\n",
      "Summary: Joseph Robinette Biden Jr. (  BY-dən; born November 20, 1942) is an American politician who is the 46th and current president of the United States since 2021. A member of the Democratic Party, he previously served as the 47th vice president from 2009 to 2017 under President Barack Obama and represented Delaware in the United States Senate from 1973 to 2009.\n",
      "Born in Scranton, Pennsylvania, Biden moved with his family to Delaware in 1953. He graduated from the University of Delaware before earning his law degree from Syracuse University. He was elected to the New Castle County Council in 1970 and to the U.S. Senate in 1972. As a senator, Biden drafted and led the effort to pass the Violent Crime Control and Law Enforcement Act and the Violence Against Women Act. He also oversaw six U.S. Supreme Court confirmation hearings, including the contentious hearings for Robert Bork and Clarence Thomas. Biden ran unsuccessfully for the Democratic presidential nomination in 1988 and 2008. In 2008, Obama chose Biden as his running mate, and he was a close counselor to Obama during his two terms as vice president. In the 2020 presidential election, Biden and his running mate, Kamala Harris, defeated incumbents Donald Trump and Mike Pence. He is the oldest president in U.S. history, and the first to have a female vice president.\n",
      "As president, Biden signed the American Rescue Plan Act in response to the COVID-19 pandemic and subsequent recession. He signed bipartisan bills on infrastructure and manufacturing. He proposed the Build Back Better Act, which failed in Congress, but aspects of which were incorporated into the Inflation Reduction Act that he signed into law in 2022. Biden appointed Ketanji Brown Jackson to the Supreme Court. He worked with congressional Republicans to resolve the 2023 United States debt-ceiling crisis by negotiating a deal to raise the debt ceiling. In foreign policy, Biden restored America's membership in the Paris Agreement. He oversaw the complete withdrawal of U.S. troops from Afghanistan that ended the war in Afghanistan, during which the Afghan government collapsed and the Taliban seized control. He responded to the Russian invasion of Ukraine by imposing sanctions on Russia and authorizing civilian and military aid to Ukraine. During the Israel–Hamas war, Biden condemned the actions of Hamas and other Palestinian militants as terrorism, announced military support for Israel, and ordered the U.S. military to build a port to facilitate the delivery of humanitarian aid to Palestinian civilians in Gaza. In April 2023, Biden announced his candidacy for the Democratic nomination in the 2024 presidential election.\n",
      "\n",
      "Page: Presidency of Joe Biden\n",
      "Summary: Joe Biden's tenure as the 46th president of the United States began with his inauguration on January 20, 2021. Biden, a Democrat from Delaware who previously served as vice president for two terms under President Barack Obama, took office following his victory in the 2020 presidential election over Republican incumbent president Donald Trump. Upon his inauguration, he became the oldest president in American history, breaking the record set by Ronald Reagan. Biden entered office amid the COVID-19 pandemic, an economic crisis, and increased political polarization.\n",
      "On the first day of his presidency, Biden made an effort to revert President Trump's energy policy by restoring U.S. participation in the Paris Agreement and revoking the permit for the Keystone XL pipeline. He also halted funding for Trump's border wall, an expansion of the Mexican border wall. On his second day, he issued a series of executive orders to reduce the impact of COVID-19, including invoking the Defense Production Act of 1950, and set an early goal of achieving one hundred million COVID-19 vaccinations in the United States in his first 100 days.\n",
      "Biden signed into law the American Rescue Plan Act of 2021, a $1.9 trillion stimulus bill that temporarily established expanded u\u001b[0m\u001b[32;1m\u001b[1;3mJoe Biden, the current President of the United States, was born on November 20, 1942. To calculate his age, we can subtract his birth year from the current year. Since the current year is 2023, Biden's age would be 2023 - 1942 = 81.\n",
      "\n",
      "Now, let's multiply his age by two: 81 * 2 = 162.\n",
      "\n",
      "Therefore, the number obtained by multiplying Joe Biden's age by two is 162.\u001b[0m\n",
      "\n",
      "\u001b[1m> Finished chain.\u001b[0m\n"
     ]
    }
   ],
   "source": [
    "results = agent_executor.batch([{\"input\": x} for x in inputs], return_exceptions=True)"
   ]
  },
  {
   "cell_type": "code",
   "execution_count": null,
   "id": "a84da0a0-0a46-4553-a92c-bcc1fad41bc9",
   "metadata": {},
   "outputs": [],
   "source": []
  }
 ],
 "metadata": {
  "kernelspec": {
   "display_name": "Python 3 (ipykernel)",
   "language": "python",
   "name": "python3"
  },
  "language_info": {
   "codemirror_mode": {
    "name": "ipython",
    "version": 3
   },
   "file_extension": ".py",
   "mimetype": "text/x-python",
   "name": "python",
   "nbconvert_exporter": "python",
   "pygments_lexer": "ipython3",
   "version": "3.8.2"
  }
 },
 "nbformat": 4,
 "nbformat_minor": 5
}
